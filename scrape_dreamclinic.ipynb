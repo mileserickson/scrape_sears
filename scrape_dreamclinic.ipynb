{
 "cells": [
  {
   "cell_type": "code",
   "execution_count": 2,
   "metadata": {},
   "outputs": [],
   "source": [
    "from selenium.webdriver import Chrome"
   ]
  },
  {
   "cell_type": "code",
   "execution_count": 10,
   "metadata": {},
   "outputs": [],
   "source": [
    "browsers = [Chrome() for i in range(10)]"
   ]
  },
  {
   "cell_type": "code",
   "execution_count": 11,
   "metadata": {},
   "outputs": [],
   "source": [
    "for browser in browsers:\n",
    "    browser.quit()"
   ]
  },
  {
   "cell_type": "code",
   "execution_count": 4,
   "metadata": {},
   "outputs": [],
   "source": [
    "url = 'https://dreamclinic.com/locations'"
   ]
  },
  {
   "cell_type": "code",
   "execution_count": 5,
   "metadata": {},
   "outputs": [],
   "source": [
    "browser.get(url)"
   ]
  },
  {
   "cell_type": "code",
   "execution_count": 6,
   "metadata": {},
   "outputs": [],
   "source": [
    "sel = \"main#content\""
   ]
  },
  {
   "cell_type": "code",
   "execution_count": 7,
   "metadata": {},
   "outputs": [],
   "source": [
    "content = browser.find_element_by_css_selector(sel)"
   ]
  },
  {
   "cell_type": "code",
   "execution_count": 14,
   "metadata": {},
   "outputs": [],
   "source": [
    "lines = (content.text.split('\\n'))"
   ]
  },
  {
   "cell_type": "code",
   "execution_count": 18,
   "metadata": {},
   "outputs": [
    {
     "data": {
      "text/plain": [
       "['Phone: (425) 274-3430',\n",
       " 'Fax: (206) 267-0814',\n",
       " 'Phone: (206) 632-5074',\n",
       " 'Fax: (206) 267-0814',\n",
       " 'Phone: (206) 267-0863',\n",
       " 'Fax: (206) 267-0814',\n",
       " 'Phone: (206) 453-4137',\n",
       " 'Fax: (206) 267-0814',\n",
       " 'Primary: (503) 488-5663',\n",
       " 'Primary: (503) 488-5663',\n",
       " 'Secondary: (541) 515-6194',\n",
       " 'Primary: (503) 488-5663',\n",
       " 'Secondary: (503) 292-3583',\n",
       " 'Primary: (503) 488-5663',\n",
       " 'Secondary: (503) 655-4877',\n",
       " 'Primary: (206) 525-0726',\n",
       " 'Primary: (206) 525-0726']"
      ]
     },
     "execution_count": 18,
     "metadata": {},
     "output_type": "execute_result"
    }
   ],
   "source": [
    "[line for line in lines if ': (' in line]"
   ]
  },
  {
   "cell_type": "code",
   "execution_count": null,
   "metadata": {},
   "outputs": [],
   "source": []
  }
 ],
 "metadata": {
  "kernelspec": {
   "display_name": "Python 3",
   "language": "python",
   "name": "python3"
  },
  "language_info": {
   "codemirror_mode": {
    "name": "ipython",
    "version": 3
   },
   "file_extension": ".py",
   "mimetype": "text/x-python",
   "name": "python",
   "nbconvert_exporter": "python",
   "pygments_lexer": "ipython3",
   "version": "3.7.3"
  }
 },
 "nbformat": 4,
 "nbformat_minor": 2
}
